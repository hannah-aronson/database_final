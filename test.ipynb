{
 "cells": [
  {
   "cell_type": "code",
   "execution_count": null,
   "metadata": {},
   "outputs": [],
   "source": [
    "import psycopg2\n",
    "\n",
    "# 連接資料庫\n",
    "conn = psycopg2.connect(\n",
    "    dbname=\"autosteer_db\",\n",
    "    user=\"autosteer\",\n",
    "    password=\"autosteer_database\", \n",
    "    host=\"localhost\",\n",
    "    port=\"5432\"\n",
    ")\n",
    "\n",
    "cur = conn.cursor()\n",
    "\n",
    "# 建立資料表\n",
    "cur.execute(\"\"\"\n",
    "    CREATE TABLE IF NOT EXISTS sensor_data (\n",
    "        id SERIAL PRIMARY KEY,\n",
    "        timestamp TIMESTAMPTZ DEFAULT now(),\n",
    "        value FLOAT\n",
    "    );\n",
    "\"\"\")\n",
    "print(\"✅ 已建立 sensor_data 表格\")\n",
    "\n",
    "# 插入一筆資料\n",
    "cur.execute(\"INSERT INTO sensor_data (value) VALUES (%s);\", (42.0,))\n",
    "print(\"✅ 已插入一筆測試資料\")\n",
    "\n",
    "# 查詢所有資料列\n",
    "cur.execute(\"SELECT * FROM sensor_data;\")\n",
    "rows = cur.fetchall()\n",
    "print(\"📋 表格內容：\")\n",
    "for row in rows:\n",
    "    print(row)\n",
    "\n",
    "# 刪除表格\n",
    "cur.execute(\"DROP TABLE IF EXISTS sensor_data;\")\n",
    "print(\"🗑️ 已刪除 sensor_data 表格\")\n",
    "\n",
    "# 提交並關閉\n",
    "conn.commit()\n",
    "cur.close()\n",
    "conn.close()"
   ]
  }
 ],
 "metadata": {
  "language_info": {
   "name": "python"
  }
 },
 "nbformat": 4,
 "nbformat_minor": 2
}
